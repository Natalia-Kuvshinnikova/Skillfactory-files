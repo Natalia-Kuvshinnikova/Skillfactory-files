{
 "cells": [
  {
   "cell_type": "code",
   "execution_count": 1,
   "metadata": {},
   "outputs": [
    {
     "data": {
      "text/plain": [
       "5.827586206896555"
      ]
     },
     "execution_count": 1,
     "metadata": {},
     "output_type": "execute_result"
    }
   ],
   "source": [
    "import pandas as pd\n",
    "\n",
    "countries_df = pd.DataFrame({\n",
    "    'country': ['Англия', 'Канада', 'США', 'Россия', 'Украина', 'Беларусь', 'Казахстан'],\n",
    "    'population': [56.29, 38.05, 322.28, 146.24, 45.5, 9.5, 17.04],\n",
    "    'square': [133396, 9984670, 9826630, 17125191, 603628, 207600, 2724902]\n",
    "})\n",
    "\n",
    "#countries_df.to_csv('data/countries.csv', index=False, sep=';')\n",
    "#countries_data = pd.read_csv('data/countries.csv', sep=';')\n",
    "#display(countries_data)\n",
    "\n",
    "data = pd.read_csv('https://raw.githubusercontent.com/esabunor/MLWorkspace/master/melb_data.csv')\n",
    "#display(data)\n",
    "\n",
    "#melb_data = pd.read_csv('data/melb_data.csv', sep=',')\n",
    "#display(melb_data)\n",
    "#round((melb_data.loc[3521,'Landsize' ]/melb_data.loc[1690,'Landsize' ]),0)\n",
    "#display(melb_data.head())\n",
    "#melb_data.shape\n",
    "#melb_data['Car'] = melb_data['Car'].astype('int64')\n",
    "#melb_data['Bedroom'] = melb_data['Bedroom'].astype('int64')\n",
    "#melb_data['Bathroom'] = melb_data['Bathroom'].astype('int64')\n",
    "#melb_data['Propertycount'] = melb_data['Propertycount'].astype('int64')\n",
    "#melb_data['YearBuilt'] = melb_data['YearBuilt'].astype('int64')\n",
    "#melb_data.info()\n",
    "#melb_data.describe().loc[:, ['Distance', 'BuildingArea' , 'Price']]\n",
    "#melb_data.describe(include=['object'])\n",
    "#melb_data['Type'].value_counts(normalize=True)\n",
    "#data = pd.DataFrame([[0,1], [1, 0], [1, 1]], columns=['А', 'B'])\n",
    "#data.shape\n",
    "#melb_data['Regionname'].mode()\n",
    "#abs(melb_data['BuildingArea'].mean()-melb_data['BuildingArea'].quantile(0.5))/melb_data['BuildingArea'].mean()\n",
    "#melb_data['Bedroom'].mode()\n",
    "#mask = melb_data['Price'] > 2000000\n",
    "#display(melb_data[mask].head())\n",
    "#mask=(melb_data['Price']<1000000) & ((melb_data['Rooms']>5) | (melb_data['YearBuilt']>2015))\n",
    "#melb_data[(melb_data['Type']=='h') & (melb_data['Price']<3000000)]['Regionname'].max()\n",
    "\n",
    "student_data=pd.read_csv('data/students_performance.csv', sep=',')\n",
    "#student_data[student_data['lunch']=='standard']['math score'].mean()\n",
    "#student_data[student_data['lunch']=='free/reduced']['math score'].mean()\n",
    "#student_data['parental level of education'].value_counts(normalize=True)\n",
    "\n",
    "med_A=student_data[student_data['race/ethnicity']=='group A']['writing score'].median()\n",
    "mean_c=student_data[student_data['race/ethnicity']=='group C']['writing score'].mean()\n",
    "abs(med_A-mean_c)"
   ]
  }
 ],
 "metadata": {
  "kernelspec": {
   "display_name": "Python 3",
   "language": "python",
   "name": "python3"
  },
  "language_info": {
   "codemirror_mode": {
    "name": "ipython",
    "version": 3
   },
   "file_extension": ".py",
   "mimetype": "text/x-python",
   "name": "python",
   "nbconvert_exporter": "python",
   "pygments_lexer": "ipython3",
   "version": "3.11.3"
  },
  "orig_nbformat": 4
 },
 "nbformat": 4,
 "nbformat_minor": 2
}
